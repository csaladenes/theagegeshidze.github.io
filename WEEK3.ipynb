{
  "nbformat": 4,
  "nbformat_minor": 0,
  "metadata": {
    "colab": {
      "provenance": [],
      "authorship_tag": "ABX9TyMvVM2kyoZen5opLyG85xxb",
      "include_colab_link": true
    },
    "kernelspec": {
      "name": "python3",
      "display_name": "Python 3"
    },
    "language_info": {
      "name": "python"
    }
  },
  "cells": [
    {
      "cell_type": "markdown",
      "metadata": {
        "id": "view-in-github",
        "colab_type": "text"
      },
      "source": [
        "<a href=\"https://colab.research.google.com/github/theagegeshidze/theagegeshidze.github.io/blob/main/WEEK3.ipynb\" target=\"_parent\"><img src=\"https://colab.research.google.com/assets/colab-badge.svg\" alt=\"Open In Colab\"/></a>"
      ]
    },
    {
      "cell_type": "code",
      "execution_count": 4,
      "metadata": {
        "id": "Fb0Xhr1neMP2"
      },
      "outputs": [],
      "source": []
    },
    {
      "cell_type": "markdown",
      "source": [
        "Arrays, vectors, `lists`  \n",
        "Cell navigation: `Ctrl+Enter` runs the cell  \n",
        "`Alt+Enter` runs and adds a new one below\n",
        "`Shift+Etner` runs and steps into the next cell "
      ],
      "metadata": {
        "id": "OPwPMYX9Bz_B"
      }
    },
    {
      "cell_type": "code",
      "source": [
        "a = [2,4,3,\"fdfd\",[5,6]]"
      ],
      "metadata": {
        "id": "NSMRz4jKB5LA"
      },
      "execution_count": 5,
      "outputs": []
    },
    {
      "cell_type": "code",
      "source": [
        "a"
      ],
      "metadata": {
        "colab": {
          "base_uri": "https://localhost:8080/"
        },
        "id": "_rPNvj5DCAN8",
        "outputId": "56efed92-376c-47f9-f284-b399d6c24240"
      },
      "execution_count": 6,
      "outputs": [
        {
          "output_type": "execute_result",
          "data": {
            "text/plain": [
              "[2, 4, 3, 'fdfd', [5, 6]]"
            ]
          },
          "metadata": {},
          "execution_count": 6
        }
      ]
    },
    {
      "cell_type": "code",
      "source": [
        "a[4][0]"
      ],
      "metadata": {
        "colab": {
          "base_uri": "https://localhost:8080/"
        },
        "id": "JnJurOOvCEsG",
        "outputId": "5fda292f-e1e6-4038-8e87-f4127d885444"
      },
      "execution_count": 7,
      "outputs": [
        {
          "output_type": "execute_result",
          "data": {
            "text/plain": [
              "5"
            ]
          },
          "metadata": {},
          "execution_count": 7
        }
      ]
    },
    {
      "cell_type": "markdown",
      "source": [
        "This is a nice **comments**  \n",
        "Dictionary, Object, Hash table"
      ],
      "metadata": {
        "id": "XEgEtBB5CHhy"
      }
    },
    {
      "cell_type": "code",
      "source": [
        "b={'alfa':1,\n",
        "'beta':27, \n",
        "'gamma':[0,1,2],\n",
        "'delta':67.3,\n",
        "'ninety-eight':{\n",
        "    'a': 5, \n",
        "    'b':7}\n",
        "   }"
      ],
      "metadata": {
        "id": "jZx5G55aCRb-"
      },
      "execution_count": 8,
      "outputs": []
    },
    {
      "cell_type": "code",
      "source": [
        "b['ninety-eight']['a']"
      ],
      "metadata": {
        "colab": {
          "base_uri": "https://localhost:8080/"
        },
        "id": "sv384BCsC2xC",
        "outputId": "81517dd5-451b-41e9-b9e4-c3c731f0873e"
      },
      "execution_count": 9,
      "outputs": [
        {
          "output_type": "execute_result",
          "data": {
            "text/plain": [
              "5"
            ]
          },
          "metadata": {},
          "execution_count": 9
        }
      ]
    },
    {
      "cell_type": "code",
      "source": [
        "b.keys(),b.values()"
      ],
      "metadata": {
        "colab": {
          "base_uri": "https://localhost:8080/"
        },
        "id": "h6pxYrREDA6k",
        "outputId": "2d1b0a2c-c6d8-4b56-f4c5-e830afe04d1d"
      },
      "execution_count": 10,
      "outputs": [
        {
          "output_type": "execute_result",
          "data": {
            "text/plain": [
              "(dict_keys(['alfa', 'beta', 'gamma', 'delta', 'ninety-eight']),\n",
              " dict_values([1, 27, [0, 1, 2], 67.3, {'a': 5, 'b': 7}]))"
            ]
          },
          "metadata": {},
          "execution_count": 10
        }
      ]
    },
    {
      "cell_type": "code",
      "source": [
        "import pandas as pd"
      ],
      "metadata": {
        "id": "tI2R1DZWDFm0"
      },
      "execution_count": 4,
      "outputs": []
    },
    {
      "cell_type": "code",
      "source": [
        "df = pd.read_csv('UKGDPovertime.csv')"
      ],
      "metadata": {
        "id": "PEiBhiXMgdkx"
      },
      "execution_count": 25,
      "outputs": []
    },
    {
      "cell_type": "code",
      "source": [
        "df"
      ],
      "metadata": {
        "id": "9nC-vxMtlvCK",
        "colab": {
          "base_uri": "https://localhost:8080/",
          "height": 424
        },
        "outputId": "c60b2cc2-dbb9-49c4-fcfb-441a3db19826"
      },
      "execution_count": 26,
      "outputs": [
        {
          "output_type": "execute_result",
          "data": {
            "text/plain": [
              "    LOCATION     TIME      Value\n",
              "0         UK  1956-Q1   2.722894\n",
              "1         UK  1956-Q2   2.452136\n",
              "2         UK  1956-Q3   0.305441\n",
              "3         UK  1956-Q4   1.305624\n",
              "4         UK  1957-Q1   2.157135\n",
              "..       ...      ...        ...\n",
              "261       UK  2021-Q2  24.274075\n",
              "262       UK  2021-Q3   8.455658\n",
              "263       UK  2021-Q4   8.892294\n",
              "264       UK  2022-Q1  10.942436\n",
              "265       UK  2022-Q2   4.375820\n",
              "\n",
              "[266 rows x 3 columns]"
            ],
            "text/html": [
              "\n",
              "  <div id=\"df-37711639-ea1e-487d-96ac-65d2789fe4f4\">\n",
              "    <div class=\"colab-df-container\">\n",
              "      <div>\n",
              "<style scoped>\n",
              "    .dataframe tbody tr th:only-of-type {\n",
              "        vertical-align: middle;\n",
              "    }\n",
              "\n",
              "    .dataframe tbody tr th {\n",
              "        vertical-align: top;\n",
              "    }\n",
              "\n",
              "    .dataframe thead th {\n",
              "        text-align: right;\n",
              "    }\n",
              "</style>\n",
              "<table border=\"1\" class=\"dataframe\">\n",
              "  <thead>\n",
              "    <tr style=\"text-align: right;\">\n",
              "      <th></th>\n",
              "      <th>LOCATION</th>\n",
              "      <th>TIME</th>\n",
              "      <th>Value</th>\n",
              "    </tr>\n",
              "  </thead>\n",
              "  <tbody>\n",
              "    <tr>\n",
              "      <th>0</th>\n",
              "      <td>UK</td>\n",
              "      <td>1956-Q1</td>\n",
              "      <td>2.722894</td>\n",
              "    </tr>\n",
              "    <tr>\n",
              "      <th>1</th>\n",
              "      <td>UK</td>\n",
              "      <td>1956-Q2</td>\n",
              "      <td>2.452136</td>\n",
              "    </tr>\n",
              "    <tr>\n",
              "      <th>2</th>\n",
              "      <td>UK</td>\n",
              "      <td>1956-Q3</td>\n",
              "      <td>0.305441</td>\n",
              "    </tr>\n",
              "    <tr>\n",
              "      <th>3</th>\n",
              "      <td>UK</td>\n",
              "      <td>1956-Q4</td>\n",
              "      <td>1.305624</td>\n",
              "    </tr>\n",
              "    <tr>\n",
              "      <th>4</th>\n",
              "      <td>UK</td>\n",
              "      <td>1957-Q1</td>\n",
              "      <td>2.157135</td>\n",
              "    </tr>\n",
              "    <tr>\n",
              "      <th>...</th>\n",
              "      <td>...</td>\n",
              "      <td>...</td>\n",
              "      <td>...</td>\n",
              "    </tr>\n",
              "    <tr>\n",
              "      <th>261</th>\n",
              "      <td>UK</td>\n",
              "      <td>2021-Q2</td>\n",
              "      <td>24.274075</td>\n",
              "    </tr>\n",
              "    <tr>\n",
              "      <th>262</th>\n",
              "      <td>UK</td>\n",
              "      <td>2021-Q3</td>\n",
              "      <td>8.455658</td>\n",
              "    </tr>\n",
              "    <tr>\n",
              "      <th>263</th>\n",
              "      <td>UK</td>\n",
              "      <td>2021-Q4</td>\n",
              "      <td>8.892294</td>\n",
              "    </tr>\n",
              "    <tr>\n",
              "      <th>264</th>\n",
              "      <td>UK</td>\n",
              "      <td>2022-Q1</td>\n",
              "      <td>10.942436</td>\n",
              "    </tr>\n",
              "    <tr>\n",
              "      <th>265</th>\n",
              "      <td>UK</td>\n",
              "      <td>2022-Q2</td>\n",
              "      <td>4.375820</td>\n",
              "    </tr>\n",
              "  </tbody>\n",
              "</table>\n",
              "<p>266 rows × 3 columns</p>\n",
              "</div>\n",
              "      <button class=\"colab-df-convert\" onclick=\"convertToInteractive('df-37711639-ea1e-487d-96ac-65d2789fe4f4')\"\n",
              "              title=\"Convert this dataframe to an interactive table.\"\n",
              "              style=\"display:none;\">\n",
              "        \n",
              "  <svg xmlns=\"http://www.w3.org/2000/svg\" height=\"24px\"viewBox=\"0 0 24 24\"\n",
              "       width=\"24px\">\n",
              "    <path d=\"M0 0h24v24H0V0z\" fill=\"none\"/>\n",
              "    <path d=\"M18.56 5.44l.94 2.06.94-2.06 2.06-.94-2.06-.94-.94-2.06-.94 2.06-2.06.94zm-11 1L8.5 8.5l.94-2.06 2.06-.94-2.06-.94L8.5 2.5l-.94 2.06-2.06.94zm10 10l.94 2.06.94-2.06 2.06-.94-2.06-.94-.94-2.06-.94 2.06-2.06.94z\"/><path d=\"M17.41 7.96l-1.37-1.37c-.4-.4-.92-.59-1.43-.59-.52 0-1.04.2-1.43.59L10.3 9.45l-7.72 7.72c-.78.78-.78 2.05 0 2.83L4 21.41c.39.39.9.59 1.41.59.51 0 1.02-.2 1.41-.59l7.78-7.78 2.81-2.81c.8-.78.8-2.07 0-2.86zM5.41 20L4 18.59l7.72-7.72 1.47 1.35L5.41 20z\"/>\n",
              "  </svg>\n",
              "      </button>\n",
              "      \n",
              "  <style>\n",
              "    .colab-df-container {\n",
              "      display:flex;\n",
              "      flex-wrap:wrap;\n",
              "      gap: 12px;\n",
              "    }\n",
              "\n",
              "    .colab-df-convert {\n",
              "      background-color: #E8F0FE;\n",
              "      border: none;\n",
              "      border-radius: 50%;\n",
              "      cursor: pointer;\n",
              "      display: none;\n",
              "      fill: #1967D2;\n",
              "      height: 32px;\n",
              "      padding: 0 0 0 0;\n",
              "      width: 32px;\n",
              "    }\n",
              "\n",
              "    .colab-df-convert:hover {\n",
              "      background-color: #E2EBFA;\n",
              "      box-shadow: 0px 1px 2px rgba(60, 64, 67, 0.3), 0px 1px 3px 1px rgba(60, 64, 67, 0.15);\n",
              "      fill: #174EA6;\n",
              "    }\n",
              "\n",
              "    [theme=dark] .colab-df-convert {\n",
              "      background-color: #3B4455;\n",
              "      fill: #D2E3FC;\n",
              "    }\n",
              "\n",
              "    [theme=dark] .colab-df-convert:hover {\n",
              "      background-color: #434B5C;\n",
              "      box-shadow: 0px 1px 3px 1px rgba(0, 0, 0, 0.15);\n",
              "      filter: drop-shadow(0px 1px 2px rgba(0, 0, 0, 0.3));\n",
              "      fill: #FFFFFF;\n",
              "    }\n",
              "  </style>\n",
              "\n",
              "      <script>\n",
              "        const buttonEl =\n",
              "          document.querySelector('#df-37711639-ea1e-487d-96ac-65d2789fe4f4 button.colab-df-convert');\n",
              "        buttonEl.style.display =\n",
              "          google.colab.kernel.accessAllowed ? 'block' : 'none';\n",
              "\n",
              "        async function convertToInteractive(key) {\n",
              "          const element = document.querySelector('#df-37711639-ea1e-487d-96ac-65d2789fe4f4');\n",
              "          const dataTable =\n",
              "            await google.colab.kernel.invokeFunction('convertToInteractive',\n",
              "                                                     [key], {});\n",
              "          if (!dataTable) return;\n",
              "\n",
              "          const docLinkHtml = 'Like what you see? Visit the ' +\n",
              "            '<a target=\"_blank\" href=https://colab.research.google.com/notebooks/data_table.ipynb>data table notebook</a>'\n",
              "            + ' to learn more about interactive tables.';\n",
              "          element.innerHTML = '';\n",
              "          dataTable['output_type'] = 'display_data';\n",
              "          await google.colab.output.renderOutput(dataTable, element);\n",
              "          const docLink = document.createElement('div');\n",
              "          docLink.innerHTML = docLinkHtml;\n",
              "          element.appendChild(docLink);\n",
              "        }\n",
              "      </script>\n",
              "    </div>\n",
              "  </div>\n",
              "  "
            ]
          },
          "metadata": {},
          "execution_count": 26
        }
      ]
    },
    {
      "cell_type": "code",
      "source": [
        "df.head(5)"
      ],
      "metadata": {
        "id": "T2c-GVvlh6_X",
        "colab": {
          "base_uri": "https://localhost:8080/",
          "height": 206
        },
        "outputId": "da4b53ae-c691-4579-8080-734c592a125f"
      },
      "execution_count": 27,
      "outputs": [
        {
          "output_type": "execute_result",
          "data": {
            "text/plain": [
              "  LOCATION     TIME     Value\n",
              "0       UK  1956-Q1  2.722894\n",
              "1       UK  1956-Q2  2.452136\n",
              "2       UK  1956-Q3  0.305441\n",
              "3       UK  1956-Q4  1.305624\n",
              "4       UK  1957-Q1  2.157135"
            ],
            "text/html": [
              "\n",
              "  <div id=\"df-a03764ca-5ea4-4db2-90f2-2442d45b77f1\">\n",
              "    <div class=\"colab-df-container\">\n",
              "      <div>\n",
              "<style scoped>\n",
              "    .dataframe tbody tr th:only-of-type {\n",
              "        vertical-align: middle;\n",
              "    }\n",
              "\n",
              "    .dataframe tbody tr th {\n",
              "        vertical-align: top;\n",
              "    }\n",
              "\n",
              "    .dataframe thead th {\n",
              "        text-align: right;\n",
              "    }\n",
              "</style>\n",
              "<table border=\"1\" class=\"dataframe\">\n",
              "  <thead>\n",
              "    <tr style=\"text-align: right;\">\n",
              "      <th></th>\n",
              "      <th>LOCATION</th>\n",
              "      <th>TIME</th>\n",
              "      <th>Value</th>\n",
              "    </tr>\n",
              "  </thead>\n",
              "  <tbody>\n",
              "    <tr>\n",
              "      <th>0</th>\n",
              "      <td>UK</td>\n",
              "      <td>1956-Q1</td>\n",
              "      <td>2.722894</td>\n",
              "    </tr>\n",
              "    <tr>\n",
              "      <th>1</th>\n",
              "      <td>UK</td>\n",
              "      <td>1956-Q2</td>\n",
              "      <td>2.452136</td>\n",
              "    </tr>\n",
              "    <tr>\n",
              "      <th>2</th>\n",
              "      <td>UK</td>\n",
              "      <td>1956-Q3</td>\n",
              "      <td>0.305441</td>\n",
              "    </tr>\n",
              "    <tr>\n",
              "      <th>3</th>\n",
              "      <td>UK</td>\n",
              "      <td>1956-Q4</td>\n",
              "      <td>1.305624</td>\n",
              "    </tr>\n",
              "    <tr>\n",
              "      <th>4</th>\n",
              "      <td>UK</td>\n",
              "      <td>1957-Q1</td>\n",
              "      <td>2.157135</td>\n",
              "    </tr>\n",
              "  </tbody>\n",
              "</table>\n",
              "</div>\n",
              "      <button class=\"colab-df-convert\" onclick=\"convertToInteractive('df-a03764ca-5ea4-4db2-90f2-2442d45b77f1')\"\n",
              "              title=\"Convert this dataframe to an interactive table.\"\n",
              "              style=\"display:none;\">\n",
              "        \n",
              "  <svg xmlns=\"http://www.w3.org/2000/svg\" height=\"24px\"viewBox=\"0 0 24 24\"\n",
              "       width=\"24px\">\n",
              "    <path d=\"M0 0h24v24H0V0z\" fill=\"none\"/>\n",
              "    <path d=\"M18.56 5.44l.94 2.06.94-2.06 2.06-.94-2.06-.94-.94-2.06-.94 2.06-2.06.94zm-11 1L8.5 8.5l.94-2.06 2.06-.94-2.06-.94L8.5 2.5l-.94 2.06-2.06.94zm10 10l.94 2.06.94-2.06 2.06-.94-2.06-.94-.94-2.06-.94 2.06-2.06.94z\"/><path d=\"M17.41 7.96l-1.37-1.37c-.4-.4-.92-.59-1.43-.59-.52 0-1.04.2-1.43.59L10.3 9.45l-7.72 7.72c-.78.78-.78 2.05 0 2.83L4 21.41c.39.39.9.59 1.41.59.51 0 1.02-.2 1.41-.59l7.78-7.78 2.81-2.81c.8-.78.8-2.07 0-2.86zM5.41 20L4 18.59l7.72-7.72 1.47 1.35L5.41 20z\"/>\n",
              "  </svg>\n",
              "      </button>\n",
              "      \n",
              "  <style>\n",
              "    .colab-df-container {\n",
              "      display:flex;\n",
              "      flex-wrap:wrap;\n",
              "      gap: 12px;\n",
              "    }\n",
              "\n",
              "    .colab-df-convert {\n",
              "      background-color: #E8F0FE;\n",
              "      border: none;\n",
              "      border-radius: 50%;\n",
              "      cursor: pointer;\n",
              "      display: none;\n",
              "      fill: #1967D2;\n",
              "      height: 32px;\n",
              "      padding: 0 0 0 0;\n",
              "      width: 32px;\n",
              "    }\n",
              "\n",
              "    .colab-df-convert:hover {\n",
              "      background-color: #E2EBFA;\n",
              "      box-shadow: 0px 1px 2px rgba(60, 64, 67, 0.3), 0px 1px 3px 1px rgba(60, 64, 67, 0.15);\n",
              "      fill: #174EA6;\n",
              "    }\n",
              "\n",
              "    [theme=dark] .colab-df-convert {\n",
              "      background-color: #3B4455;\n",
              "      fill: #D2E3FC;\n",
              "    }\n",
              "\n",
              "    [theme=dark] .colab-df-convert:hover {\n",
              "      background-color: #434B5C;\n",
              "      box-shadow: 0px 1px 3px 1px rgba(0, 0, 0, 0.15);\n",
              "      filter: drop-shadow(0px 1px 2px rgba(0, 0, 0, 0.3));\n",
              "      fill: #FFFFFF;\n",
              "    }\n",
              "  </style>\n",
              "\n",
              "      <script>\n",
              "        const buttonEl =\n",
              "          document.querySelector('#df-a03764ca-5ea4-4db2-90f2-2442d45b77f1 button.colab-df-convert');\n",
              "        buttonEl.style.display =\n",
              "          google.colab.kernel.accessAllowed ? 'block' : 'none';\n",
              "\n",
              "        async function convertToInteractive(key) {\n",
              "          const element = document.querySelector('#df-a03764ca-5ea4-4db2-90f2-2442d45b77f1');\n",
              "          const dataTable =\n",
              "            await google.colab.kernel.invokeFunction('convertToInteractive',\n",
              "                                                     [key], {});\n",
              "          if (!dataTable) return;\n",
              "\n",
              "          const docLinkHtml = 'Like what you see? Visit the ' +\n",
              "            '<a target=\"_blank\" href=https://colab.research.google.com/notebooks/data_table.ipynb>data table notebook</a>'\n",
              "            + ' to learn more about interactive tables.';\n",
              "          element.innerHTML = '';\n",
              "          dataTable['output_type'] = 'display_data';\n",
              "          await google.colab.output.renderOutput(dataTable, element);\n",
              "          const docLink = document.createElement('div');\n",
              "          docLink.innerHTML = docLinkHtml;\n",
              "          element.appendChild(docLink);\n",
              "        }\n",
              "      </script>\n",
              "    </div>\n",
              "  </div>\n",
              "  "
            ]
          },
          "metadata": {},
          "execution_count": 27
        }
      ]
    },
    {
      "cell_type": "code",
      "source": [
        "df.T"
      ],
      "metadata": {
        "colab": {
          "base_uri": "https://localhost:8080/",
          "height": 254
        },
        "id": "kPRiQ2azhtgv",
        "outputId": "bc3bbb49-7b2e-42d4-c903-2d8ad26f2c8d"
      },
      "execution_count": 28,
      "outputs": [
        {
          "output_type": "execute_result",
          "data": {
            "text/plain": [
              "               0         1         2         3         4         5    \\\n",
              "LOCATION        UK        UK        UK        UK        UK        UK   \n",
              "TIME       1956-Q1   1956-Q2   1956-Q3   1956-Q4   1957-Q1   1957-Q2   \n",
              "Value     2.722894  2.452136  0.305441  1.305624  2.157135  2.348061   \n",
              "\n",
              "               6         7         8        9    ...       256        257  \\\n",
              "LOCATION        UK        UK        UK       UK  ...        UK         UK   \n",
              "TIME       1957-Q3   1957-Q4   1958-Q1  1958-Q2  ...   2020-Q1    2020-Q2   \n",
              "Value     1.837429  1.566555  1.766138 -0.66204  ... -1.963018 -22.627408   \n",
              "\n",
              "                258       259       260        261       262       263  \\\n",
              "LOCATION         UK        UK        UK         UK        UK        UK   \n",
              "TIME        2020-Q3   2020-Q4   2021-Q1    2021-Q2   2021-Q3   2021-Q4   \n",
              "Value    -10.324678 -9.213327 -7.840956  24.274075  8.455658  8.892294   \n",
              "\n",
              "                264      265  \n",
              "LOCATION         UK       UK  \n",
              "TIME        2022-Q1  2022-Q2  \n",
              "Value     10.942436  4.37582  \n",
              "\n",
              "[3 rows x 266 columns]"
            ],
            "text/html": [
              "\n",
              "  <div id=\"df-37f9e818-a342-4db9-b527-4a28ff7503c6\">\n",
              "    <div class=\"colab-df-container\">\n",
              "      <div>\n",
              "<style scoped>\n",
              "    .dataframe tbody tr th:only-of-type {\n",
              "        vertical-align: middle;\n",
              "    }\n",
              "\n",
              "    .dataframe tbody tr th {\n",
              "        vertical-align: top;\n",
              "    }\n",
              "\n",
              "    .dataframe thead th {\n",
              "        text-align: right;\n",
              "    }\n",
              "</style>\n",
              "<table border=\"1\" class=\"dataframe\">\n",
              "  <thead>\n",
              "    <tr style=\"text-align: right;\">\n",
              "      <th></th>\n",
              "      <th>0</th>\n",
              "      <th>1</th>\n",
              "      <th>2</th>\n",
              "      <th>3</th>\n",
              "      <th>4</th>\n",
              "      <th>5</th>\n",
              "      <th>6</th>\n",
              "      <th>7</th>\n",
              "      <th>8</th>\n",
              "      <th>9</th>\n",
              "      <th>...</th>\n",
              "      <th>256</th>\n",
              "      <th>257</th>\n",
              "      <th>258</th>\n",
              "      <th>259</th>\n",
              "      <th>260</th>\n",
              "      <th>261</th>\n",
              "      <th>262</th>\n",
              "      <th>263</th>\n",
              "      <th>264</th>\n",
              "      <th>265</th>\n",
              "    </tr>\n",
              "  </thead>\n",
              "  <tbody>\n",
              "    <tr>\n",
              "      <th>LOCATION</th>\n",
              "      <td>UK</td>\n",
              "      <td>UK</td>\n",
              "      <td>UK</td>\n",
              "      <td>UK</td>\n",
              "      <td>UK</td>\n",
              "      <td>UK</td>\n",
              "      <td>UK</td>\n",
              "      <td>UK</td>\n",
              "      <td>UK</td>\n",
              "      <td>UK</td>\n",
              "      <td>...</td>\n",
              "      <td>UK</td>\n",
              "      <td>UK</td>\n",
              "      <td>UK</td>\n",
              "      <td>UK</td>\n",
              "      <td>UK</td>\n",
              "      <td>UK</td>\n",
              "      <td>UK</td>\n",
              "      <td>UK</td>\n",
              "      <td>UK</td>\n",
              "      <td>UK</td>\n",
              "    </tr>\n",
              "    <tr>\n",
              "      <th>TIME</th>\n",
              "      <td>1956-Q1</td>\n",
              "      <td>1956-Q2</td>\n",
              "      <td>1956-Q3</td>\n",
              "      <td>1956-Q4</td>\n",
              "      <td>1957-Q1</td>\n",
              "      <td>1957-Q2</td>\n",
              "      <td>1957-Q3</td>\n",
              "      <td>1957-Q4</td>\n",
              "      <td>1958-Q1</td>\n",
              "      <td>1958-Q2</td>\n",
              "      <td>...</td>\n",
              "      <td>2020-Q1</td>\n",
              "      <td>2020-Q2</td>\n",
              "      <td>2020-Q3</td>\n",
              "      <td>2020-Q4</td>\n",
              "      <td>2021-Q1</td>\n",
              "      <td>2021-Q2</td>\n",
              "      <td>2021-Q3</td>\n",
              "      <td>2021-Q4</td>\n",
              "      <td>2022-Q1</td>\n",
              "      <td>2022-Q2</td>\n",
              "    </tr>\n",
              "    <tr>\n",
              "      <th>Value</th>\n",
              "      <td>2.722894</td>\n",
              "      <td>2.452136</td>\n",
              "      <td>0.305441</td>\n",
              "      <td>1.305624</td>\n",
              "      <td>2.157135</td>\n",
              "      <td>2.348061</td>\n",
              "      <td>1.837429</td>\n",
              "      <td>1.566555</td>\n",
              "      <td>1.766138</td>\n",
              "      <td>-0.66204</td>\n",
              "      <td>...</td>\n",
              "      <td>-1.963018</td>\n",
              "      <td>-22.627408</td>\n",
              "      <td>-10.324678</td>\n",
              "      <td>-9.213327</td>\n",
              "      <td>-7.840956</td>\n",
              "      <td>24.274075</td>\n",
              "      <td>8.455658</td>\n",
              "      <td>8.892294</td>\n",
              "      <td>10.942436</td>\n",
              "      <td>4.37582</td>\n",
              "    </tr>\n",
              "  </tbody>\n",
              "</table>\n",
              "<p>3 rows × 266 columns</p>\n",
              "</div>\n",
              "      <button class=\"colab-df-convert\" onclick=\"convertToInteractive('df-37f9e818-a342-4db9-b527-4a28ff7503c6')\"\n",
              "              title=\"Convert this dataframe to an interactive table.\"\n",
              "              style=\"display:none;\">\n",
              "        \n",
              "  <svg xmlns=\"http://www.w3.org/2000/svg\" height=\"24px\"viewBox=\"0 0 24 24\"\n",
              "       width=\"24px\">\n",
              "    <path d=\"M0 0h24v24H0V0z\" fill=\"none\"/>\n",
              "    <path d=\"M18.56 5.44l.94 2.06.94-2.06 2.06-.94-2.06-.94-.94-2.06-.94 2.06-2.06.94zm-11 1L8.5 8.5l.94-2.06 2.06-.94-2.06-.94L8.5 2.5l-.94 2.06-2.06.94zm10 10l.94 2.06.94-2.06 2.06-.94-2.06-.94-.94-2.06-.94 2.06-2.06.94z\"/><path d=\"M17.41 7.96l-1.37-1.37c-.4-.4-.92-.59-1.43-.59-.52 0-1.04.2-1.43.59L10.3 9.45l-7.72 7.72c-.78.78-.78 2.05 0 2.83L4 21.41c.39.39.9.59 1.41.59.51 0 1.02-.2 1.41-.59l7.78-7.78 2.81-2.81c.8-.78.8-2.07 0-2.86zM5.41 20L4 18.59l7.72-7.72 1.47 1.35L5.41 20z\"/>\n",
              "  </svg>\n",
              "      </button>\n",
              "      \n",
              "  <style>\n",
              "    .colab-df-container {\n",
              "      display:flex;\n",
              "      flex-wrap:wrap;\n",
              "      gap: 12px;\n",
              "    }\n",
              "\n",
              "    .colab-df-convert {\n",
              "      background-color: #E8F0FE;\n",
              "      border: none;\n",
              "      border-radius: 50%;\n",
              "      cursor: pointer;\n",
              "      display: none;\n",
              "      fill: #1967D2;\n",
              "      height: 32px;\n",
              "      padding: 0 0 0 0;\n",
              "      width: 32px;\n",
              "    }\n",
              "\n",
              "    .colab-df-convert:hover {\n",
              "      background-color: #E2EBFA;\n",
              "      box-shadow: 0px 1px 2px rgba(60, 64, 67, 0.3), 0px 1px 3px 1px rgba(60, 64, 67, 0.15);\n",
              "      fill: #174EA6;\n",
              "    }\n",
              "\n",
              "    [theme=dark] .colab-df-convert {\n",
              "      background-color: #3B4455;\n",
              "      fill: #D2E3FC;\n",
              "    }\n",
              "\n",
              "    [theme=dark] .colab-df-convert:hover {\n",
              "      background-color: #434B5C;\n",
              "      box-shadow: 0px 1px 3px 1px rgba(0, 0, 0, 0.15);\n",
              "      filter: drop-shadow(0px 1px 2px rgba(0, 0, 0, 0.3));\n",
              "      fill: #FFFFFF;\n",
              "    }\n",
              "  </style>\n",
              "\n",
              "      <script>\n",
              "        const buttonEl =\n",
              "          document.querySelector('#df-37f9e818-a342-4db9-b527-4a28ff7503c6 button.colab-df-convert');\n",
              "        buttonEl.style.display =\n",
              "          google.colab.kernel.accessAllowed ? 'block' : 'none';\n",
              "\n",
              "        async function convertToInteractive(key) {\n",
              "          const element = document.querySelector('#df-37f9e818-a342-4db9-b527-4a28ff7503c6');\n",
              "          const dataTable =\n",
              "            await google.colab.kernel.invokeFunction('convertToInteractive',\n",
              "                                                     [key], {});\n",
              "          if (!dataTable) return;\n",
              "\n",
              "          const docLinkHtml = 'Like what you see? Visit the ' +\n",
              "            '<a target=\"_blank\" href=https://colab.research.google.com/notebooks/data_table.ipynb>data table notebook</a>'\n",
              "            + ' to learn more about interactive tables.';\n",
              "          element.innerHTML = '';\n",
              "          dataTable['output_type'] = 'display_data';\n",
              "          await google.colab.output.renderOutput(dataTable, element);\n",
              "          const docLink = document.createElement('div');\n",
              "          docLink.innerHTML = docLinkHtml;\n",
              "          element.appendChild(docLink);\n",
              "        }\n",
              "      </script>\n",
              "    </div>\n",
              "  </div>\n",
              "  "
            ]
          },
          "metadata": {},
          "execution_count": 28
        }
      ]
    },
    {
      "cell_type": "code",
      "source": [
        "df.T.to_dict"
      ],
      "metadata": {
        "id": "5GmCXF3nh822",
        "colab": {
          "base_uri": "https://localhost:8080/"
        },
        "outputId": "844709f1-1226-4cdb-fd53-798a4077ca6c"
      },
      "execution_count": 29,
      "outputs": [
        {
          "output_type": "execute_result",
          "data": {
            "text/plain": [
              "<bound method DataFrame.to_dict of                0         1         2         3         4         5    \\\n",
              "LOCATION        UK        UK        UK        UK        UK        UK   \n",
              "TIME       1956-Q1   1956-Q2   1956-Q3   1956-Q4   1957-Q1   1957-Q2   \n",
              "Value     2.722894  2.452136  0.305441  1.305624  2.157135  2.348061   \n",
              "\n",
              "               6         7         8        9    ...       256        257  \\\n",
              "LOCATION        UK        UK        UK       UK  ...        UK         UK   \n",
              "TIME       1957-Q3   1957-Q4   1958-Q1  1958-Q2  ...   2020-Q1    2020-Q2   \n",
              "Value     1.837429  1.566555  1.766138 -0.66204  ... -1.963018 -22.627408   \n",
              "\n",
              "                258       259       260        261       262       263  \\\n",
              "LOCATION         UK        UK        UK         UK        UK        UK   \n",
              "TIME        2020-Q3   2020-Q4   2021-Q1    2021-Q2   2021-Q3   2021-Q4   \n",
              "Value    -10.324678 -9.213327 -7.840956  24.274075  8.455658  8.892294   \n",
              "\n",
              "                264      265  \n",
              "LOCATION         UK       UK  \n",
              "TIME        2022-Q1  2022-Q2  \n",
              "Value     10.942436  4.37582  \n",
              "\n",
              "[3 rows x 266 columns]>"
            ]
          },
          "metadata": {},
          "execution_count": 29
        }
      ]
    },
    {
      "cell_type": "code",
      "source": [
        "b.keys()"
      ],
      "metadata": {
        "id": "5B_GwuyxjQF-",
        "colab": {
          "base_uri": "https://localhost:8080/"
        },
        "outputId": "d16d0aee-5e4d-4e70-8517-59cb0c3dd005"
      },
      "execution_count": 31,
      "outputs": [
        {
          "output_type": "execute_result",
          "data": {
            "text/plain": [
              "dict_keys(['alfa', 'beta', 'gamma', 'delta', 'ninety-eight'])"
            ]
          },
          "metadata": {},
          "execution_count": 31
        }
      ]
    },
    {
      "cell_type": "code",
      "source": [
        "list ( df.T.to_dict().values() )"
      ],
      "metadata": {
        "colab": {
          "base_uri": "https://localhost:8080/"
        },
        "id": "MTOyhIOysE5e",
        "outputId": "3d6b76fe-ea23-432f-b442-807f938e5a32"
      },
      "execution_count": 33,
      "outputs": [
        {
          "output_type": "execute_result",
          "data": {
            "text/plain": [
              "[{'LOCATION': 'UK', 'TIME': '1956-Q1', 'Value': 2.722893534},\n",
              " {'LOCATION': 'UK', 'TIME': '1956-Q2', 'Value': 2.452136034},\n",
              " {'LOCATION': 'UK', 'TIME': '1956-Q3', 'Value': 0.305441171},\n",
              " {'LOCATION': 'UK', 'TIME': '1956-Q4', 'Value': 1.305623668},\n",
              " {'LOCATION': 'UK', 'TIME': '1957-Q1', 'Value': 2.157135477},\n",
              " {'LOCATION': 'UK', 'TIME': '1957-Q2', 'Value': 2.3480608},\n",
              " {'LOCATION': 'UK', 'TIME': '1957-Q3', 'Value': 1.837429353},\n",
              " {'LOCATION': 'UK', 'TIME': '1957-Q4', 'Value': 1.56655477},\n",
              " {'LOCATION': 'UK', 'TIME': '1958-Q1', 'Value': 1.766138381},\n",
              " {'LOCATION': 'UK', 'TIME': '1958-Q2', 'Value': -0.662040423},\n",
              " {'LOCATION': 'UK', 'TIME': '1958-Q3', 'Value': 2.176873943},\n",
              " {'LOCATION': 'UK', 'TIME': '1958-Q4', 'Value': 2.097153528},\n",
              " {'LOCATION': 'UK', 'TIME': '1959-Q1', 'Value': 0.551227456},\n",
              " {'LOCATION': 'UK', 'TIME': '1959-Q2', 'Value': 4.71137355},\n",
              " {'LOCATION': 'UK', 'TIME': '1959-Q3', 'Value': 4.633311117},\n",
              " {'LOCATION': 'UK', 'TIME': '1959-Q4', 'Value': 7.203042849},\n",
              " {'LOCATION': 'UK', 'TIME': '1960-Q1', 'Value': 9.162104623},\n",
              " {'LOCATION': 'UK', 'TIME': '1960-Q2', 'Value': 6.552386936},\n",
              " {'LOCATION': 'UK', 'TIME': '1960-Q3', 'Value': 5.886616733},\n",
              " {'LOCATION': 'UK', 'TIME': '1960-Q4', 'Value': 3.859250851},\n",
              " {'LOCATION': 'UK', 'TIME': '1961-Q1', 'Value': 2.985999861},\n",
              " {'LOCATION': 'UK', 'TIME': '1961-Q2', 'Value': 4.22200073},\n",
              " {'LOCATION': 'UK', 'TIME': '1961-Q3', 'Value': 2.144916713},\n",
              " {'LOCATION': 'UK', 'TIME': '1961-Q4', 'Value': 1.361652404},\n",
              " {'LOCATION': 'UK', 'TIME': '1962-Q1', 'Value': 0.181932543},\n",
              " {'LOCATION': 'UK', 'TIME': '1962-Q2', 'Value': 0.682232983},\n",
              " {'LOCATION': 'UK', 'TIME': '1962-Q3', 'Value': 1.833160713},\n",
              " {'LOCATION': 'UK', 'TIME': '1962-Q4', 'Value': 1.609862612},\n",
              " {'LOCATION': 'UK', 'TIME': '1963-Q1', 'Value': 1.581086372},\n",
              " {'LOCATION': 'UK', 'TIME': '1963-Q2', 'Value': 5.070369776},\n",
              " {'LOCATION': 'UK', 'TIME': '1963-Q3', 'Value': 4.923852132},\n",
              " {'LOCATION': 'UK', 'TIME': '1963-Q4', 'Value': 7.724906567},\n",
              " {'LOCATION': 'UK', 'TIME': '1964-Q1', 'Value': 7.941887976},\n",
              " {'LOCATION': 'UK', 'TIME': '1964-Q2', 'Value': 5.327994092},\n",
              " {'LOCATION': 'UK', 'TIME': '1964-Q3', 'Value': 5.221809704},\n",
              " {'LOCATION': 'UK', 'TIME': '1964-Q4', 'Value': 4.451878698},\n",
              " {'LOCATION': 'UK', 'TIME': '1965-Q1', 'Value': 3.491608073},\n",
              " {'LOCATION': 'UK', 'TIME': '1965-Q2', 'Value': 1.673063556},\n",
              " {'LOCATION': 'UK', 'TIME': '1965-Q3', 'Value': 2.117654143},\n",
              " {'LOCATION': 'UK', 'TIME': '1965-Q4', 'Value': 1.207584771},\n",
              " {'LOCATION': 'UK', 'TIME': '1966-Q1', 'Value': 1.684226808},\n",
              " {'LOCATION': 'UK', 'TIME': '1966-Q2', 'Value': 2.204942543},\n",
              " {'LOCATION': 'UK', 'TIME': '1966-Q3', 'Value': 1.686350584},\n",
              " {'LOCATION': 'UK', 'TIME': '1966-Q4', 'Value': 0.633508559},\n",
              " {'LOCATION': 'UK', 'TIME': '1967-Q1', 'Value': 1.821904985},\n",
              " {'LOCATION': 'UK', 'TIME': '1967-Q2', 'Value': 2.666325427},\n",
              " {'LOCATION': 'UK', 'TIME': '1967-Q3', 'Value': 2.798958581},\n",
              " {'LOCATION': 'UK', 'TIME': '1967-Q4', 'Value': 3.759652453},\n",
              " {'LOCATION': 'UK', 'TIME': '1968-Q1', 'Value': 6.11604629},\n",
              " {'LOCATION': 'UK', 'TIME': '1968-Q2', 'Value': 4.216287265},\n",
              " {'LOCATION': 'UK', 'TIME': '1968-Q3', 'Value': 5.795785294},\n",
              " {'LOCATION': 'UK', 'TIME': '1968-Q4', 'Value': 5.682086051},\n",
              " {'LOCATION': 'UK', 'TIME': '1969-Q1', 'Value': 1.70513001},\n",
              " {'LOCATION': 'UK', 'TIME': '1969-Q2', 'Value': 2.917672386},\n",
              " {'LOCATION': 'UK', 'TIME': '1969-Q3', 'Value': 1.493396744},\n",
              " {'LOCATION': 'UK', 'TIME': '1969-Q4', 'Value': 1.568258824},\n",
              " {'LOCATION': 'UK', 'TIME': '1970-Q1', 'Value': 1.177147056},\n",
              " {'LOCATION': 'UK', 'TIME': '1970-Q2', 'Value': 2.752027045},\n",
              " {'LOCATION': 'UK', 'TIME': '1970-Q3', 'Value': 3.203404076},\n",
              " {'LOCATION': 'UK', 'TIME': '1970-Q4', 'Value': 3.617758861},\n",
              " {'LOCATION': 'UK', 'TIME': '1971-Q1', 'Value': 3.762931624},\n",
              " {'LOCATION': 'UK', 'TIME': '1971-Q2', 'Value': 3.187250996},\n",
              " {'LOCATION': 'UK', 'TIME': '1971-Q3', 'Value': 3.987111749},\n",
              " {'LOCATION': 'UK', 'TIME': '1971-Q4', 'Value': 3.485895948},\n",
              " {'LOCATION': 'UK', 'TIME': '1972-Q1', 'Value': 4.118891013},\n",
              " {'LOCATION': 'UK', 'TIME': '1972-Q2', 'Value': 4.988915182},\n",
              " {'LOCATION': 'UK', 'TIME': '1972-Q3', 'Value': 3.43529573},\n",
              " {'LOCATION': 'UK', 'TIME': '1972-Q4', 'Value': 4.639698066},\n",
              " {'LOCATION': 'UK', 'TIME': '1973-Q1', 'Value': 9.710147045},\n",
              " {'LOCATION': 'UK', 'TIME': '1973-Q2', 'Value': 7.027650316},\n",
              " {'LOCATION': 'UK', 'TIME': '1973-Q3', 'Value': 5.730470543},\n",
              " {'LOCATION': 'UK', 'TIME': '1973-Q4', 'Value': 3.658087636},\n",
              " {'LOCATION': 'UK', 'TIME': '1974-Q1', 'Value': -3.948554254},\n",
              " {'LOCATION': 'UK', 'TIME': '1974-Q2', 'Value': -2.706285552},\n",
              " {'LOCATION': 'UK', 'TIME': '1974-Q3', 'Value': -1.165975884},\n",
              " {'LOCATION': 'UK', 'TIME': '1974-Q4', 'Value': -2.185278925},\n",
              " {'LOCATION': 'UK', 'TIME': '1975-Q1', 'Value': 0.62860233},\n",
              " {'LOCATION': 'UK', 'TIME': '1975-Q2', 'Value': -2.424753355},\n",
              " {'LOCATION': 'UK', 'TIME': '1975-Q3', 'Value': -3.368913968},\n",
              " {'LOCATION': 'UK', 'TIME': '1975-Q4', 'Value': -0.810269232},\n",
              " {'LOCATION': 'UK', 'TIME': '1976-Q1', 'Value': 0.768902179},\n",
              " {'LOCATION': 'UK', 'TIME': '1976-Q2', 'Value': 2.325288151},\n",
              " {'LOCATION': 'UK', 'TIME': '1976-Q3', 'Value': 3.991114194},\n",
              " {'LOCATION': 'UK', 'TIME': '1976-Q4', 'Value': 4.990756143},\n",
              " {'LOCATION': 'UK', 'TIME': '1977-Q1', 'Value': 3.302383459},\n",
              " {'LOCATION': 'UK', 'TIME': '1977-Q2', 'Value': 2.694623077},\n",
              " {'LOCATION': 'UK', 'TIME': '1977-Q3', 'Value': 2.095182298},\n",
              " {'LOCATION': 'UK', 'TIME': '1977-Q4', 'Value': 1.680568428},\n",
              " {'LOCATION': 'UK', 'TIME': '1978-Q1', 'Value': 2.559656183},\n",
              " {'LOCATION': 'UK', 'TIME': '1978-Q2', 'Value': 4.507415325},\n",
              " {'LOCATION': 'UK', 'TIME': '1978-Q3', 'Value': 5.230887397},\n",
              " {'LOCATION': 'UK', 'TIME': '1978-Q4', 'Value': 4.40368406},\n",
              " {'LOCATION': 'UK', 'TIME': '1979-Q1', 'Value': 3.121329587},\n",
              " {'LOCATION': 'UK', 'TIME': '1979-Q2', 'Value': 6.41295519},\n",
              " {'LOCATION': 'UK', 'TIME': '1979-Q3', 'Value': 2.623023713},\n",
              " {'LOCATION': 'UK', 'TIME': '1979-Q4', 'Value': 2.760409738},\n",
              " {'LOCATION': 'UK', 'TIME': '1980-Q1', 'Value': 2.144871666},\n",
              " {'LOCATION': 'UK', 'TIME': '1980-Q2', 'Value': -4.11183356},\n",
              " {'LOCATION': 'UK', 'TIME': '1980-Q3', 'Value': -2.024182275},\n",
              " {'LOCATION': 'UK', 'TIME': '1980-Q4', 'Value': -4.091284226},\n",
              " {'LOCATION': 'UK', 'TIME': '1981-Q1', 'Value': -3.221023653},\n",
              " {'LOCATION': 'UK', 'TIME': '1981-Q2', 'Value': -1.025673085},\n",
              " {'LOCATION': 'UK', 'TIME': '1981-Q3', 'Value': 0.16062414},\n",
              " {'LOCATION': 'UK', 'TIME': '1981-Q4', 'Value': 1.391144425},\n",
              " {'LOCATION': 'UK', 'TIME': '1982-Q1', 'Value': 1.626973576},\n",
              " {'LOCATION': 'UK', 'TIME': '1982-Q2', 'Value': 2.464638979},\n",
              " {'LOCATION': 'UK', 'TIME': '1982-Q3', 'Value': 1.604498594},\n",
              " {'LOCATION': 'UK', 'TIME': '1982-Q4', 'Value': 2.187470098},\n",
              " {'LOCATION': 'UK', 'TIME': '1983-Q1', 'Value': 3.895381191},\n",
              " {'LOCATION': 'UK', 'TIME': '1983-Q2', 'Value': 3.664129666},\n",
              " {'LOCATION': 'UK', 'TIME': '1983-Q3', 'Value': 4.531683659},\n",
              " {'LOCATION': 'UK', 'TIME': '1983-Q4', 'Value': 4.692887997},\n",
              " {'LOCATION': 'UK', 'TIME': '1984-Q1', 'Value': 3.505504081},\n",
              " {'LOCATION': 'UK', 'TIME': '1984-Q2', 'Value': 1.750658083},\n",
              " {'LOCATION': 'UK', 'TIME': '1984-Q3', 'Value': 1.305195289},\n",
              " {'LOCATION': 'UK', 'TIME': '1984-Q4', 'Value': 2.418784075},\n",
              " {'LOCATION': 'UK', 'TIME': '1985-Q1', 'Value': 2.522514173},\n",
              " {'LOCATION': 'UK', 'TIME': '1985-Q2', 'Value': 5.645902815},\n",
              " {'LOCATION': 'UK', 'TIME': '1985-Q3', 'Value': 5.069509773},\n",
              " {'LOCATION': 'UK', 'TIME': '1985-Q4', 'Value': 3.292276383},\n",
              " {'LOCATION': 'UK', 'TIME': '1986-Q1', 'Value': 3.633795389},\n",
              " {'LOCATION': 'UK', 'TIME': '1986-Q2', 'Value': 2.217182055},\n",
              " {'LOCATION': 'UK', 'TIME': '1986-Q3', 'Value': 2.591708302},\n",
              " {'LOCATION': 'UK', 'TIME': '1986-Q4', 'Value': 4.183131467},\n",
              " {'LOCATION': 'UK', 'TIME': '1987-Q1', 'Value': 3.984341777},\n",
              " {'LOCATION': 'UK', 'TIME': '1987-Q2', 'Value': 4.729278738},\n",
              " {'LOCATION': 'UK', 'TIME': '1987-Q3', 'Value': 6.775296475},\n",
              " {'LOCATION': 'UK', 'TIME': '1987-Q4', 'Value': 6.061921143},\n",
              " {'LOCATION': 'UK', 'TIME': '1988-Q1', 'Value': 6.898203007},\n",
              " {'LOCATION': 'UK', 'TIME': '1988-Q2', 'Value': 5.934028077},\n",
              " {'LOCATION': 'UK', 'TIME': '1988-Q3', 'Value': 4.965304756},\n",
              " {'LOCATION': 'UK', 'TIME': '1988-Q4', 'Value': 4.676220701},\n",
              " {'LOCATION': 'UK', 'TIME': '1989-Q1', 'Value': 3.309746782},\n",
              " {'LOCATION': 'UK', 'TIME': '1989-Q2', 'Value': 3.390243902},\n",
              " {'LOCATION': 'UK', 'TIME': '1989-Q3', 'Value': 1.946389374},\n",
              " {'LOCATION': 'UK', 'TIME': '1989-Q4', 'Value': 1.173318757},\n",
              " {'LOCATION': 'UK', 'TIME': '1990-Q1', 'Value': 1.415431751},\n",
              " {'LOCATION': 'UK', 'TIME': '1990-Q2', 'Value': 1.278917984},\n",
              " {'LOCATION': 'UK', 'TIME': '1990-Q3', 'Value': 0.137989998},\n",
              " {'LOCATION': 'UK', 'TIME': '1990-Q4', 'Value': -0.290870255},\n",
              " {'LOCATION': 'UK', 'TIME': '1991-Q1', 'Value': -1.244936302},\n",
              " {'LOCATION': 'UK', 'TIME': '1991-Q2', 'Value': -1.873654854},\n",
              " {'LOCATION': 'UK', 'TIME': '1991-Q3', 'Value': -1.062534136},\n",
              " {'LOCATION': 'UK', 'TIME': '1991-Q4', 'Value': -0.554454697},\n",
              " {'LOCATION': 'UK', 'TIME': '1992-Q1', 'Value': -0.252189275},\n",
              " {'LOCATION': 'UK', 'TIME': '1992-Q2', 'Value': -0.241171295},\n",
              " {'LOCATION': 'UK', 'TIME': '1992-Q3', 'Value': 0.614861371},\n",
              " {'LOCATION': 'UK', 'TIME': '1992-Q4', 'Value': 1.133782538},\n",
              " {'LOCATION': 'UK', 'TIME': '1993-Q1', 'Value': 1.843925343},\n",
              " {'LOCATION': 'UK', 'TIME': '1993-Q2', 'Value': 2.468622698},\n",
              " {'LOCATION': 'UK', 'TIME': '1993-Q3', 'Value': 2.642756463},\n",
              " {'LOCATION': 'UK', 'TIME': '1993-Q4', 'Value': 2.643712725},\n",
              " {'LOCATION': 'UK', 'TIME': '1994-Q1', 'Value': 3.128003957},\n",
              " {'LOCATION': 'UK', 'TIME': '1994-Q2', 'Value': 3.813584249},\n",
              " {'LOCATION': 'UK', 'TIME': '1994-Q3', 'Value': 4.126115166},\n",
              " {'LOCATION': 'UK', 'TIME': '1994-Q4', 'Value': 3.995568956},\n",
              " {'LOCATION': 'UK', 'TIME': '1995-Q1', 'Value': 3.455744391},\n",
              " {'LOCATION': 'UK', 'TIME': '1995-Q2', 'Value': 2.473948236},\n",
              " {'LOCATION': 'UK', 'TIME': '1995-Q3', 'Value': 2.386241934},\n",
              " {'LOCATION': 'UK', 'TIME': '1995-Q4', 'Value': 2.015957462},\n",
              " {'LOCATION': 'UK', 'TIME': '1996-Q1', 'Value': 1.77687324},\n",
              " {'LOCATION': 'UK', 'TIME': '1996-Q2', 'Value': 1.631600546},\n",
              " {'LOCATION': 'UK', 'TIME': '1996-Q3', 'Value': 1.693796808},\n",
              " {'LOCATION': 'UK', 'TIME': '1996-Q4', 'Value': 2.523220126},\n",
              " {'LOCATION': 'UK', 'TIME': '1997-Q1', 'Value': 3.675341492},\n",
              " {'LOCATION': 'UK', 'TIME': '1997-Q2', 'Value': 4.733744756},\n",
              " {'LOCATION': 'UK', 'TIME': '1997-Q3', 'Value': 4.599485986},\n",
              " {'LOCATION': 'UK', 'TIME': '1997-Q4', 'Value': 5.075149471},\n",
              " {'LOCATION': 'UK', 'TIME': '1998-Q1', 'Value': 4.11069815},\n",
              " {'LOCATION': 'UK', 'TIME': '1998-Q2', 'Value': 3.565793971},\n",
              " {'LOCATION': 'UK', 'TIME': '1998-Q3', 'Value': 2.916229842},\n",
              " {'LOCATION': 'UK', 'TIME': '1998-Q4', 'Value': 2.074699876},\n",
              " {'LOCATION': 'UK', 'TIME': '1999-Q1', 'Value': 2.193432972},\n",
              " {'LOCATION': 'UK', 'TIME': '1999-Q2', 'Value': 2.063279175},\n",
              " {'LOCATION': 'UK', 'TIME': '1999-Q3', 'Value': 3.467173459},\n",
              " {'LOCATION': 'UK', 'TIME': '1999-Q4', 'Value': 4.314615912},\n",
              " {'LOCATION': 'UK', 'TIME': '2000-Q1', 'Value': 4.774235439},\n",
              " {'LOCATION': 'UK', 'TIME': '2000-Q2', 'Value': 5.035943308},\n",
              " {'LOCATION': 'UK', 'TIME': '2000-Q3', 'Value': 3.826721414},\n",
              " {'LOCATION': 'UK', 'TIME': '2000-Q4', 'Value': 2.782263727},\n",
              " {'LOCATION': 'UK', 'TIME': '2001-Q1', 'Value': 2.472440984},\n",
              " {'LOCATION': 'UK', 'TIME': '2001-Q2', 'Value': 2.178308529},\n",
              " {'LOCATION': 'UK', 'TIME': '2001-Q3', 'Value': 2.127560521},\n",
              " {'LOCATION': 'UK', 'TIME': '2001-Q4', 'Value': 1.856437757},\n",
              " {'LOCATION': 'UK', 'TIME': '2002-Q1', 'Value': 1.342345197},\n",
              " {'LOCATION': 'UK', 'TIME': '2002-Q2', 'Value': 1.503757586},\n",
              " {'LOCATION': 'UK', 'TIME': '2002-Q3', 'Value': 1.772300103},\n",
              " {'LOCATION': 'UK', 'TIME': '2002-Q4', 'Value': 2.458800422},\n",
              " {'LOCATION': 'UK', 'TIME': '2003-Q1', 'Value': 2.750817559},\n",
              " {'LOCATION': 'UK', 'TIME': '2003-Q2', 'Value': 3.088572969},\n",
              " {'LOCATION': 'UK', 'TIME': '2003-Q3', 'Value': 3.354393079},\n",
              " {'LOCATION': 'UK', 'TIME': '2003-Q4', 'Value': 3.292148359},\n",
              " {'LOCATION': 'UK', 'TIME': '2004-Q1', 'Value': 3.098588932},\n",
              " {'LOCATION': 'UK', 'TIME': '2004-Q2', 'Value': 2.764085318},\n",
              " {'LOCATION': 'UK', 'TIME': '2004-Q3', 'Value': 2.004018986},\n",
              " {'LOCATION': 'UK', 'TIME': '2004-Q4', 'Value': 1.537253269},\n",
              " {'LOCATION': 'UK', 'TIME': '2005-Q1', 'Value': 1.846135126},\n",
              " {'LOCATION': 'UK', 'TIME': '2005-Q2', 'Value': 2.269018694},\n",
              " {'LOCATION': 'UK', 'TIME': '2005-Q3', 'Value': 2.900683132},\n",
              " {'LOCATION': 'UK', 'TIME': '2005-Q4', 'Value': 3.64719283},\n",
              " {'LOCATION': 'UK', 'TIME': '2006-Q1', 'Value': 3.229974446},\n",
              " {'LOCATION': 'UK', 'TIME': '2006-Q2', 'Value': 2.503161554},\n",
              " {'LOCATION': 'UK', 'TIME': '2006-Q3', 'Value': 1.776273043},\n",
              " {'LOCATION': 'UK', 'TIME': '2006-Q4', 'Value': 1.164563713},\n",
              " {'LOCATION': 'UK', 'TIME': '2007-Q1', 'Value': 1.866330607},\n",
              " {'LOCATION': 'UK', 'TIME': '2007-Q2', 'Value': 2.296422371},\n",
              " {'LOCATION': 'UK', 'TIME': '2007-Q3', 'Value': 2.927932256},\n",
              " {'LOCATION': 'UK', 'TIME': '2007-Q4', 'Value': 3.15755236},\n",
              " {'LOCATION': 'UK', 'TIME': '2008-Q1', 'Value': 2.58977639},\n",
              " {'LOCATION': 'UK', 'TIME': '2008-Q2', 'Value': 1.432620437},\n",
              " {'LOCATION': 'UK', 'TIME': '2008-Q3', 'Value': -0.856525275},\n",
              " {'LOCATION': 'UK', 'TIME': '2008-Q4', 'Value': -3.709229694},\n",
              " {'LOCATION': 'UK', 'TIME': '2009-Q1', 'Value': -6.033621752},\n",
              " {'LOCATION': 'UK', 'TIME': '2009-Q2', 'Value': -5.854582322},\n",
              " {'LOCATION': 'UK', 'TIME': '2009-Q3', 'Value': -4.281753795},\n",
              " {'LOCATION': 'UK', 'TIME': '2009-Q4', 'Value': -1.759015516},\n",
              " {'LOCATION': 'UK', 'TIME': '2010-Q1', 'Value': 1.137105205},\n",
              " {'LOCATION': 'UK', 'TIME': '2010-Q2', 'Value': 2.588061734},\n",
              " {'LOCATION': 'UK', 'TIME': '2010-Q3', 'Value': 3.102491743},\n",
              " {'LOCATION': 'UK', 'TIME': '2010-Q4', 'Value': 2.893268646},\n",
              " {'LOCATION': 'UK', 'TIME': '2011-Q1', 'Value': 2.183685052},\n",
              " {'LOCATION': 'UK', 'TIME': '2011-Q2', 'Value': 1.084296477},\n",
              " {'LOCATION': 'UK', 'TIME': '2011-Q3', 'Value': 0.6014875},\n",
              " {'LOCATION': 'UK', 'TIME': '2011-Q4', 'Value': 0.421543387},\n",
              " {'LOCATION': 'UK', 'TIME': '2012-Q1', 'Value': 0.999345315},\n",
              " {'LOCATION': 'UK', 'TIME': '2012-Q2', 'Value': 0.886711569},\n",
              " {'LOCATION': 'UK', 'TIME': '2012-Q3', 'Value': 1.983557464},\n",
              " {'LOCATION': 'UK', 'TIME': '2012-Q4', 'Value': 1.922610652},\n",
              " {'LOCATION': 'UK', 'TIME': '2013-Q1', 'Value': 1.320042991},\n",
              " {'LOCATION': 'UK', 'TIME': '2013-Q2', 'Value': 2.065175093},\n",
              " {'LOCATION': 'UK', 'TIME': '2013-Q3', 'Value': 1.567637158},\n",
              " {'LOCATION': 'UK', 'TIME': '2013-Q4', 'Value': 2.324263273},\n",
              " {'LOCATION': 'UK', 'TIME': '2014-Q1', 'Value': 3.041759965},\n",
              " {'LOCATION': 'UK', 'TIME': '2014-Q2', 'Value': 3.241603378},\n",
              " {'LOCATION': 'UK', 'TIME': '2014-Q3', 'Value': 3.252498988},\n",
              " {'LOCATION': 'UK', 'TIME': '2014-Q4', 'Value': 3.260636642},\n",
              " {'LOCATION': 'UK', 'TIME': '2015-Q1', 'Value': 2.724046353},\n",
              " {'LOCATION': 'UK', 'TIME': '2015-Q2', 'Value': 2.478264064},\n",
              " {'LOCATION': 'UK', 'TIME': '2015-Q3', 'Value': 2.143905731},\n",
              " {'LOCATION': 'UK', 'TIME': '2015-Q4', 'Value': 2.233220501},\n",
              " {'LOCATION': 'UK', 'TIME': '2016-Q1', 'Value': 2.185047622},\n",
              " {'LOCATION': 'UK', 'TIME': '2016-Q2', 'Value': 2.181574415},\n",
              " {'LOCATION': 'UK', 'TIME': '2016-Q3', 'Value': 2.192470556},\n",
              " {'LOCATION': 'UK', 'TIME': '2016-Q4', 'Value': 2.102475325},\n",
              " {'LOCATION': 'UK', 'TIME': '2017-Q1', 'Value': 2.482722829},\n",
              " {'LOCATION': 'UK', 'TIME': '2017-Q2', 'Value': 2.387746705},\n",
              " {'LOCATION': 'UK', 'TIME': '2017-Q3', 'Value': 2.463519151},\n",
              " {'LOCATION': 'UK', 'TIME': '2017-Q4', 'Value': 2.44048367},\n",
              " {'LOCATION': 'UK', 'TIME': '2018-Q1', 'Value': 1.841136146},\n",
              " {'LOCATION': 'UK', 'TIME': '2018-Q2', 'Value': 1.758723245},\n",
              " {'LOCATION': 'UK', 'TIME': '2018-Q3', 'Value': 1.799071447},\n",
              " {'LOCATION': 'UK', 'TIME': '2018-Q4', 'Value': 1.424608878},\n",
              " {'LOCATION': 'UK', 'TIME': '2019-Q1', 'Value': 1.91132407},\n",
              " {'LOCATION': 'UK', 'TIME': '2019-Q2', 'Value': 1.561445046},\n",
              " {'LOCATION': 'UK', 'TIME': '2019-Q3', 'Value': 1.617062864},\n",
              " {'LOCATION': 'UK', 'TIME': '2019-Q4', 'Value': 1.330948109},\n",
              " {'LOCATION': 'UK', 'TIME': '2020-Q1', 'Value': -1.963017842},\n",
              " {'LOCATION': 'UK', 'TIME': '2020-Q2', 'Value': -22.62740762},\n",
              " {'LOCATION': 'UK', 'TIME': '2020-Q3', 'Value': -10.32467764},\n",
              " {'LOCATION': 'UK', 'TIME': '2020-Q4', 'Value': -9.213327419},\n",
              " {'LOCATION': 'UK', 'TIME': '2021-Q1', 'Value': -7.840955875},\n",
              " {'LOCATION': 'UK', 'TIME': '2021-Q2', 'Value': 24.27407514},\n",
              " {'LOCATION': 'UK', 'TIME': '2021-Q3', 'Value': 8.455658191},\n",
              " {'LOCATION': 'UK', 'TIME': '2021-Q4', 'Value': 8.89229447},\n",
              " {'LOCATION': 'UK', 'TIME': '2022-Q1', 'Value': 10.94243572},\n",
              " {'LOCATION': 'UK', 'TIME': '2022-Q2', 'Value': 4.375819965}]"
            ]
          },
          "metadata": {},
          "execution_count": 33
        }
      ]
    },
    {
      "cell_type": "code",
      "source": [
        "exported_values = list( df.T.to_dict().values() )\n"
      ],
      "metadata": {
        "id": "SGdjK91NsMQw"
      },
      "execution_count": 36,
      "outputs": []
    },
    {
      "cell_type": "code",
      "source": [
        "import json"
      ],
      "metadata": {
        "id": "Po84LtmLsN97"
      },
      "execution_count": 37,
      "outputs": []
    },
    {
      "cell_type": "code",
      "source": [
        "open('my_first_json_file.json', 'w').write( json.dumps(exported_values) )"
      ],
      "metadata": {
        "colab": {
          "base_uri": "https://localhost:8080/"
        },
        "id": "JcKxCqpnsPto",
        "outputId": "857bb3c3-1867-4f22-88b2-ba7af195bbcb"
      },
      "execution_count": 38,
      "outputs": [
        {
          "output_type": "execute_result",
          "data": {
            "text/plain": [
              "16234"
            ]
          },
          "metadata": {},
          "execution_count": 38
        }
      ]
    }
  ]
}